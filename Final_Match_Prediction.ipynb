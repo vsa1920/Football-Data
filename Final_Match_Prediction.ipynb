{
  "nbformat": 4,
  "nbformat_minor": 0,
  "metadata": {
    "colab": {
      "name": "Final_Match_Prediction.ipynb",
      "provenance": [],
      "collapsed_sections": [],
      "authorship_tag": "ABX9TyPTKRFZEQC/1mBfotkEBgpW",
      "include_colab_link": true
    },
    "kernelspec": {
      "name": "python3",
      "display_name": "Python 3"
    }
  },
  "cells": [
    {
      "cell_type": "markdown",
      "metadata": {
        "id": "view-in-github",
        "colab_type": "text"
      },
      "source": [
        "<a href=\"https://colab.research.google.com/github/vsa1920/Football-Data/blob/main/Final_Match_Prediction.ipynb\" target=\"_parent\"><img src=\"https://colab.research.google.com/assets/colab-badge.svg\" alt=\"Open In Colab\"/></a>"
      ]
    },
    {
      "cell_type": "code",
      "metadata": {
        "id": "WHbMqEsNDw7J"
      },
      "source": [
        "import os\n",
        "import pandas as pd\n",
        "import numpy as np\n",
        "from sklearn.model_selection import train_test_split\n",
        "from sklearn.ensemble import RandomForestClassifier\n",
        "from sklearn.decomposition import PCA\n",
        "from sklearn.preprocessing import normalize\n",
        "from tensorflow import keras\n",
        "from sklearn.metrics import classification_report, accuracy_score\n"
      ],
      "execution_count": 63,
      "outputs": []
    },
    {
      "cell_type": "code",
      "metadata": {
        "colab": {
          "base_uri": "https://localhost:8080/",
          "height": 410
        },
        "id": "V4LpIWAUEB0e",
        "outputId": "1410d305-b7c1-49e1-d58b-3fda729adbc9"
      },
      "source": [
        "player_data = pd.read_csv(\"https://raw.githubusercontent.com/vsa1920/Football-Data/main/epl_players.csv\")\n",
        "match_data = pd.read_csv(\"https://raw.githubusercontent.com/vsa1920/Football-Data/main/epl_matches_train.csv\")\n",
        "potential_shots = pd.read_csv(\"https://raw.githubusercontent.com/vsa1920/Football-Data/main/epl_potential_shots.csv\")\n",
        "goals = pd.read_csv(\"https://raw.githubusercontent.com/vsa1920/Football-Data/main/epl_goals.csv\")\n",
        "match_test = pd.read_csv(\"https://raw.githubusercontent.com/vsa1920/Football-Data/main/epl_matches_test.csv\")\n",
        "player_data.drop([\"birthday\", \"height\", \"weight\", \"preferred_foot\", \"attacking_work_rate\", \"defensive_work_rate\"], axis=1, inplace=True)\n",
        "player_data = player_data.dropna()\n",
        "match_data = match_data.dropna()\n",
        "match_data.head()"
      ],
      "execution_count": 64,
      "outputs": [
        {
          "output_type": "execute_result",
          "data": {
            "text/html": [
              "<div>\n",
              "<style scoped>\n",
              "    .dataframe tbody tr th:only-of-type {\n",
              "        vertical-align: middle;\n",
              "    }\n",
              "\n",
              "    .dataframe tbody tr th {\n",
              "        vertical-align: top;\n",
              "    }\n",
              "\n",
              "    .dataframe thead th {\n",
              "        text-align: right;\n",
              "    }\n",
              "</style>\n",
              "<table border=\"1\" class=\"dataframe\">\n",
              "  <thead>\n",
              "    <tr style=\"text-align: right;\">\n",
              "      <th></th>\n",
              "      <th>season</th>\n",
              "      <th>stage</th>\n",
              "      <th>date</th>\n",
              "      <th>match_id</th>\n",
              "      <th>home_team_id</th>\n",
              "      <th>away_team_id</th>\n",
              "      <th>home_player_X1</th>\n",
              "      <th>home_player_X2</th>\n",
              "      <th>home_player_X3</th>\n",
              "      <th>home_player_X4</th>\n",
              "      <th>home_player_X5</th>\n",
              "      <th>home_player_X6</th>\n",
              "      <th>home_player_X7</th>\n",
              "      <th>home_player_X8</th>\n",
              "      <th>home_player_X9</th>\n",
              "      <th>home_player_X10</th>\n",
              "      <th>home_player_X11</th>\n",
              "      <th>away_player_X1</th>\n",
              "      <th>away_player_X2</th>\n",
              "      <th>away_player_X3</th>\n",
              "      <th>away_player_X4</th>\n",
              "      <th>away_player_X5</th>\n",
              "      <th>away_player_X6</th>\n",
              "      <th>away_player_X7</th>\n",
              "      <th>away_player_X8</th>\n",
              "      <th>away_player_X9</th>\n",
              "      <th>away_player_X10</th>\n",
              "      <th>away_player_X11</th>\n",
              "      <th>home_player_Y1</th>\n",
              "      <th>home_player_Y2</th>\n",
              "      <th>home_player_Y3</th>\n",
              "      <th>home_player_Y4</th>\n",
              "      <th>home_player_Y5</th>\n",
              "      <th>home_player_Y6</th>\n",
              "      <th>home_player_Y7</th>\n",
              "      <th>home_player_Y8</th>\n",
              "      <th>home_player_Y9</th>\n",
              "      <th>home_player_Y10</th>\n",
              "      <th>home_player_Y11</th>\n",
              "      <th>away_player_Y1</th>\n",
              "      <th>...</th>\n",
              "      <th>home_player_1</th>\n",
              "      <th>home_player_2</th>\n",
              "      <th>home_player_3</th>\n",
              "      <th>home_player_4</th>\n",
              "      <th>home_player_5</th>\n",
              "      <th>home_player_6</th>\n",
              "      <th>home_player_7</th>\n",
              "      <th>home_player_8</th>\n",
              "      <th>home_player_9</th>\n",
              "      <th>home_player_10</th>\n",
              "      <th>home_player_11</th>\n",
              "      <th>away_player_1</th>\n",
              "      <th>away_player_2</th>\n",
              "      <th>away_player_3</th>\n",
              "      <th>away_player_4</th>\n",
              "      <th>away_player_5</th>\n",
              "      <th>away_player_6</th>\n",
              "      <th>away_player_7</th>\n",
              "      <th>away_player_8</th>\n",
              "      <th>away_player_9</th>\n",
              "      <th>away_player_10</th>\n",
              "      <th>away_player_11</th>\n",
              "      <th>on_target_shot_home_team</th>\n",
              "      <th>on_target_shot_away_team</th>\n",
              "      <th>off_target_shot_home_team</th>\n",
              "      <th>off_target_shot_away_team</th>\n",
              "      <th>foul_home_team</th>\n",
              "      <th>foul_away_team</th>\n",
              "      <th>yellow_card_home_team</th>\n",
              "      <th>yellow_card_away_team</th>\n",
              "      <th>red_card_home_team</th>\n",
              "      <th>red_card_away_team</th>\n",
              "      <th>crosses_home_team</th>\n",
              "      <th>crosses_away_team</th>\n",
              "      <th>corner_home_team</th>\n",
              "      <th>corner_away_team</th>\n",
              "      <th>possession_home_team</th>\n",
              "      <th>possession_away_team</th>\n",
              "      <th>home_team_goal</th>\n",
              "      <th>away_team_goal</th>\n",
              "    </tr>\n",
              "  </thead>\n",
              "  <tbody>\n",
              "    <tr>\n",
              "      <th>0</th>\n",
              "      <td>2008/2009</td>\n",
              "      <td>1</td>\n",
              "      <td>2008-08-17 00:00:00</td>\n",
              "      <td>49337</td>\n",
              "      <td>10260</td>\n",
              "      <td>10261</td>\n",
              "      <td>1</td>\n",
              "      <td>2</td>\n",
              "      <td>4</td>\n",
              "      <td>6</td>\n",
              "      <td>8</td>\n",
              "      <td>2</td>\n",
              "      <td>4</td>\n",
              "      <td>6</td>\n",
              "      <td>8</td>\n",
              "      <td>4</td>\n",
              "      <td>6</td>\n",
              "      <td>1</td>\n",
              "      <td>2</td>\n",
              "      <td>4</td>\n",
              "      <td>6</td>\n",
              "      <td>8</td>\n",
              "      <td>2</td>\n",
              "      <td>4</td>\n",
              "      <td>6</td>\n",
              "      <td>8</td>\n",
              "      <td>5</td>\n",
              "      <td>5</td>\n",
              "      <td>1</td>\n",
              "      <td>3</td>\n",
              "      <td>3</td>\n",
              "      <td>3</td>\n",
              "      <td>3</td>\n",
              "      <td>7</td>\n",
              "      <td>7</td>\n",
              "      <td>7</td>\n",
              "      <td>7</td>\n",
              "      <td>10</td>\n",
              "      <td>10</td>\n",
              "      <td>1</td>\n",
              "      <td>...</td>\n",
              "      <td>30726</td>\n",
              "      <td>30362.0</td>\n",
              "      <td>30620</td>\n",
              "      <td>30865</td>\n",
              "      <td>32569.0</td>\n",
              "      <td>24148</td>\n",
              "      <td>34944.0</td>\n",
              "      <td>30373.0</td>\n",
              "      <td>24154.0</td>\n",
              "      <td>24157.0</td>\n",
              "      <td>30829.0</td>\n",
              "      <td>24224</td>\n",
              "      <td>25518.0</td>\n",
              "      <td>24228.0</td>\n",
              "      <td>30929</td>\n",
              "      <td>29581.0</td>\n",
              "      <td>38807.0</td>\n",
              "      <td>40565.0</td>\n",
              "      <td>30360.0</td>\n",
              "      <td>33852.0</td>\n",
              "      <td>34574.0</td>\n",
              "      <td>37799.0</td>\n",
              "      <td>11</td>\n",
              "      <td>1</td>\n",
              "      <td>10</td>\n",
              "      <td>9</td>\n",
              "      <td>16</td>\n",
              "      <td>11</td>\n",
              "      <td>3</td>\n",
              "      <td>0</td>\n",
              "      <td>0</td>\n",
              "      <td>0</td>\n",
              "      <td>24</td>\n",
              "      <td>9</td>\n",
              "      <td>6</td>\n",
              "      <td>6</td>\n",
              "      <td>55.0</td>\n",
              "      <td>45.0</td>\n",
              "      <td>1</td>\n",
              "      <td>1</td>\n",
              "    </tr>\n",
              "    <tr>\n",
              "      <th>1</th>\n",
              "      <td>2008/2009</td>\n",
              "      <td>1</td>\n",
              "      <td>2008-08-16 00:00:00</td>\n",
              "      <td>38136</td>\n",
              "      <td>9825</td>\n",
              "      <td>8659</td>\n",
              "      <td>1</td>\n",
              "      <td>2</td>\n",
              "      <td>4</td>\n",
              "      <td>6</td>\n",
              "      <td>8</td>\n",
              "      <td>2</td>\n",
              "      <td>4</td>\n",
              "      <td>6</td>\n",
              "      <td>8</td>\n",
              "      <td>4</td>\n",
              "      <td>6</td>\n",
              "      <td>1</td>\n",
              "      <td>2</td>\n",
              "      <td>4</td>\n",
              "      <td>6</td>\n",
              "      <td>8</td>\n",
              "      <td>5</td>\n",
              "      <td>7</td>\n",
              "      <td>9</td>\n",
              "      <td>1</td>\n",
              "      <td>3</td>\n",
              "      <td>5</td>\n",
              "      <td>1</td>\n",
              "      <td>3</td>\n",
              "      <td>3</td>\n",
              "      <td>3</td>\n",
              "      <td>3</td>\n",
              "      <td>7</td>\n",
              "      <td>7</td>\n",
              "      <td>7</td>\n",
              "      <td>7</td>\n",
              "      <td>10</td>\n",
              "      <td>10</td>\n",
              "      <td>1</td>\n",
              "      <td>...</td>\n",
              "      <td>23686</td>\n",
              "      <td>26111.0</td>\n",
              "      <td>38835</td>\n",
              "      <td>30986</td>\n",
              "      <td>31291.0</td>\n",
              "      <td>31013</td>\n",
              "      <td>30935.0</td>\n",
              "      <td>39297.0</td>\n",
              "      <td>26181.0</td>\n",
              "      <td>30960.0</td>\n",
              "      <td>36410.0</td>\n",
              "      <td>36373</td>\n",
              "      <td>36832.0</td>\n",
              "      <td>23115.0</td>\n",
              "      <td>37280</td>\n",
              "      <td>24728.0</td>\n",
              "      <td>24664.0</td>\n",
              "      <td>31088.0</td>\n",
              "      <td>23257.0</td>\n",
              "      <td>24171.0</td>\n",
              "      <td>25922.0</td>\n",
              "      <td>27267.0</td>\n",
              "      <td>12</td>\n",
              "      <td>2</td>\n",
              "      <td>13</td>\n",
              "      <td>3</td>\n",
              "      <td>11</td>\n",
              "      <td>9</td>\n",
              "      <td>0</td>\n",
              "      <td>0</td>\n",
              "      <td>0</td>\n",
              "      <td>0</td>\n",
              "      <td>21</td>\n",
              "      <td>7</td>\n",
              "      <td>7</td>\n",
              "      <td>5</td>\n",
              "      <td>66.0</td>\n",
              "      <td>34.0</td>\n",
              "      <td>1</td>\n",
              "      <td>0</td>\n",
              "    </tr>\n",
              "    <tr>\n",
              "      <th>2</th>\n",
              "      <td>2008/2009</td>\n",
              "      <td>1</td>\n",
              "      <td>2008-08-16 00:00:00</td>\n",
              "      <td>43276</td>\n",
              "      <td>8472</td>\n",
              "      <td>8650</td>\n",
              "      <td>1</td>\n",
              "      <td>2</td>\n",
              "      <td>4</td>\n",
              "      <td>6</td>\n",
              "      <td>8</td>\n",
              "      <td>2</td>\n",
              "      <td>4</td>\n",
              "      <td>6</td>\n",
              "      <td>8</td>\n",
              "      <td>4</td>\n",
              "      <td>6</td>\n",
              "      <td>1</td>\n",
              "      <td>2</td>\n",
              "      <td>4</td>\n",
              "      <td>6</td>\n",
              "      <td>8</td>\n",
              "      <td>2</td>\n",
              "      <td>4</td>\n",
              "      <td>6</td>\n",
              "      <td>8</td>\n",
              "      <td>4</td>\n",
              "      <td>6</td>\n",
              "      <td>1</td>\n",
              "      <td>3</td>\n",
              "      <td>3</td>\n",
              "      <td>3</td>\n",
              "      <td>3</td>\n",
              "      <td>7</td>\n",
              "      <td>7</td>\n",
              "      <td>7</td>\n",
              "      <td>7</td>\n",
              "      <td>10</td>\n",
              "      <td>10</td>\n",
              "      <td>1</td>\n",
              "      <td>...</td>\n",
              "      <td>32562</td>\n",
              "      <td>38836.0</td>\n",
              "      <td>24446</td>\n",
              "      <td>24408</td>\n",
              "      <td>36786.0</td>\n",
              "      <td>38802</td>\n",
              "      <td>24655.0</td>\n",
              "      <td>17866.0</td>\n",
              "      <td>30352.0</td>\n",
              "      <td>23927.0</td>\n",
              "      <td>24410.0</td>\n",
              "      <td>30660</td>\n",
              "      <td>37442.0</td>\n",
              "      <td>30617.0</td>\n",
              "      <td>24134</td>\n",
              "      <td>414792.0</td>\n",
              "      <td>37139.0</td>\n",
              "      <td>30618.0</td>\n",
              "      <td>40701.0</td>\n",
              "      <td>24800.0</td>\n",
              "      <td>24635.0</td>\n",
              "      <td>30853.0</td>\n",
              "      <td>4</td>\n",
              "      <td>11</td>\n",
              "      <td>3</td>\n",
              "      <td>5</td>\n",
              "      <td>13</td>\n",
              "      <td>12</td>\n",
              "      <td>0</td>\n",
              "      <td>2</td>\n",
              "      <td>0</td>\n",
              "      <td>0</td>\n",
              "      <td>15</td>\n",
              "      <td>19</td>\n",
              "      <td>1</td>\n",
              "      <td>8</td>\n",
              "      <td>46.0</td>\n",
              "      <td>54.0</td>\n",
              "      <td>0</td>\n",
              "      <td>1</td>\n",
              "    </tr>\n",
              "    <tr>\n",
              "      <th>3</th>\n",
              "      <td>2008/2009</td>\n",
              "      <td>1</td>\n",
              "      <td>2008-08-16 00:00:00</td>\n",
              "      <td>40671</td>\n",
              "      <td>8654</td>\n",
              "      <td>8528</td>\n",
              "      <td>1</td>\n",
              "      <td>2</td>\n",
              "      <td>4</td>\n",
              "      <td>6</td>\n",
              "      <td>8</td>\n",
              "      <td>2</td>\n",
              "      <td>4</td>\n",
              "      <td>6</td>\n",
              "      <td>8</td>\n",
              "      <td>4</td>\n",
              "      <td>6</td>\n",
              "      <td>1</td>\n",
              "      <td>2</td>\n",
              "      <td>6</td>\n",
              "      <td>8</td>\n",
              "      <td>4</td>\n",
              "      <td>2</td>\n",
              "      <td>4</td>\n",
              "      <td>6</td>\n",
              "      <td>8</td>\n",
              "      <td>4</td>\n",
              "      <td>6</td>\n",
              "      <td>1</td>\n",
              "      <td>3</td>\n",
              "      <td>3</td>\n",
              "      <td>3</td>\n",
              "      <td>3</td>\n",
              "      <td>7</td>\n",
              "      <td>7</td>\n",
              "      <td>7</td>\n",
              "      <td>7</td>\n",
              "      <td>10</td>\n",
              "      <td>10</td>\n",
              "      <td>1</td>\n",
              "      <td>...</td>\n",
              "      <td>36374</td>\n",
              "      <td>30966.0</td>\n",
              "      <td>23818</td>\n",
              "      <td>37277</td>\n",
              "      <td>30687.0</td>\n",
              "      <td>36394</td>\n",
              "      <td>37169.0</td>\n",
              "      <td>24223.0</td>\n",
              "      <td>24773.0</td>\n",
              "      <td>34543.0</td>\n",
              "      <td>23139.0</td>\n",
              "      <td>34421</td>\n",
              "      <td>34987.0</td>\n",
              "      <td>35472.0</td>\n",
              "      <td>111865</td>\n",
              "      <td>25005.0</td>\n",
              "      <td>35327.0</td>\n",
              "      <td>25150.0</td>\n",
              "      <td>97988.0</td>\n",
              "      <td>41877.0</td>\n",
              "      <td>127857.0</td>\n",
              "      <td>34466.0</td>\n",
              "      <td>5</td>\n",
              "      <td>7</td>\n",
              "      <td>7</td>\n",
              "      <td>15</td>\n",
              "      <td>14</td>\n",
              "      <td>13</td>\n",
              "      <td>2</td>\n",
              "      <td>1</td>\n",
              "      <td>0</td>\n",
              "      <td>0</td>\n",
              "      <td>15</td>\n",
              "      <td>27</td>\n",
              "      <td>6</td>\n",
              "      <td>10</td>\n",
              "      <td>52.0</td>\n",
              "      <td>48.0</td>\n",
              "      <td>2</td>\n",
              "      <td>1</td>\n",
              "    </tr>\n",
              "    <tr>\n",
              "      <th>5</th>\n",
              "      <td>2008/2009</td>\n",
              "      <td>1</td>\n",
              "      <td>2008-08-16 00:00:00</td>\n",
              "      <td>45612</td>\n",
              "      <td>8668</td>\n",
              "      <td>8655</td>\n",
              "      <td>1</td>\n",
              "      <td>2</td>\n",
              "      <td>4</td>\n",
              "      <td>6</td>\n",
              "      <td>8</td>\n",
              "      <td>1</td>\n",
              "      <td>3</td>\n",
              "      <td>5</td>\n",
              "      <td>7</td>\n",
              "      <td>9</td>\n",
              "      <td>5</td>\n",
              "      <td>1</td>\n",
              "      <td>2</td>\n",
              "      <td>4</td>\n",
              "      <td>6</td>\n",
              "      <td>8</td>\n",
              "      <td>4</td>\n",
              "      <td>6</td>\n",
              "      <td>8</td>\n",
              "      <td>2</td>\n",
              "      <td>6</td>\n",
              "      <td>4</td>\n",
              "      <td>1</td>\n",
              "      <td>3</td>\n",
              "      <td>3</td>\n",
              "      <td>3</td>\n",
              "      <td>3</td>\n",
              "      <td>7</td>\n",
              "      <td>7</td>\n",
              "      <td>7</td>\n",
              "      <td>7</td>\n",
              "      <td>7</td>\n",
              "      <td>11</td>\n",
              "      <td>1</td>\n",
              "      <td>...</td>\n",
              "      <td>31465</td>\n",
              "      <td>30371.0</td>\n",
              "      <td>24004</td>\n",
              "      <td>33086</td>\n",
              "      <td>30857.0</td>\n",
              "      <td>24011</td>\n",
              "      <td>109058.0</td>\n",
              "      <td>23268.0</td>\n",
              "      <td>24846.0</td>\n",
              "      <td>24006.0</td>\n",
              "      <td>24160.0</td>\n",
              "      <td>30622</td>\n",
              "      <td>37764.0</td>\n",
              "      <td>19020.0</td>\n",
              "      <td>23921</td>\n",
              "      <td>24136.0</td>\n",
              "      <td>30342.0</td>\n",
              "      <td>23889.0</td>\n",
              "      <td>23916.0</td>\n",
              "      <td>23922.0</td>\n",
              "      <td>34176.0</td>\n",
              "      <td>30646.0</td>\n",
              "      <td>2</td>\n",
              "      <td>8</td>\n",
              "      <td>7</td>\n",
              "      <td>8</td>\n",
              "      <td>11</td>\n",
              "      <td>11</td>\n",
              "      <td>2</td>\n",
              "      <td>2</td>\n",
              "      <td>0</td>\n",
              "      <td>0</td>\n",
              "      <td>14</td>\n",
              "      <td>21</td>\n",
              "      <td>3</td>\n",
              "      <td>4</td>\n",
              "      <td>51.0</td>\n",
              "      <td>49.0</td>\n",
              "      <td>2</td>\n",
              "      <td>3</td>\n",
              "    </tr>\n",
              "  </tbody>\n",
              "</table>\n",
              "<p>5 rows × 90 columns</p>\n",
              "</div>"
            ],
            "text/plain": [
              "      season  stage  ... home_team_goal  away_team_goal\n",
              "0  2008/2009      1  ...              1               1\n",
              "1  2008/2009      1  ...              1               0\n",
              "2  2008/2009      1  ...              0               1\n",
              "3  2008/2009      1  ...              2               1\n",
              "5  2008/2009      1  ...              2               3\n",
              "\n",
              "[5 rows x 90 columns]"
            ]
          },
          "metadata": {
            "tags": []
          },
          "execution_count": 64
        }
      ]
    },
    {
      "cell_type": "code",
      "metadata": {
        "colab": {
          "base_uri": "https://localhost:8080/",
          "height": 297
        },
        "id": "xcem9LelEJ53",
        "outputId": "81de2970-9cee-41ef-84ce-e231cf1550ef"
      },
      "source": [
        "match_data[\"date\"] = pd.to_datetime(match_data[\"date\"])\n",
        "player_data[\"date\"] = pd.to_datetime(player_data[\"date\"])\n",
        "player_data.head()"
      ],
      "execution_count": 65,
      "outputs": [
        {
          "output_type": "execute_result",
          "data": {
            "text/html": [
              "<div>\n",
              "<style scoped>\n",
              "    .dataframe tbody tr th:only-of-type {\n",
              "        vertical-align: middle;\n",
              "    }\n",
              "\n",
              "    .dataframe tbody tr th {\n",
              "        vertical-align: top;\n",
              "    }\n",
              "\n",
              "    .dataframe thead th {\n",
              "        text-align: right;\n",
              "    }\n",
              "</style>\n",
              "<table border=\"1\" class=\"dataframe\">\n",
              "  <thead>\n",
              "    <tr style=\"text-align: right;\">\n",
              "      <th></th>\n",
              "      <th>player_id</th>\n",
              "      <th>date</th>\n",
              "      <th>crossing</th>\n",
              "      <th>finishing</th>\n",
              "      <th>heading_accuracy</th>\n",
              "      <th>short_passing</th>\n",
              "      <th>volleys</th>\n",
              "      <th>dribbling</th>\n",
              "      <th>curve</th>\n",
              "      <th>free_kick_accuracy</th>\n",
              "      <th>long_passing</th>\n",
              "      <th>ball_control</th>\n",
              "      <th>acceleration</th>\n",
              "      <th>sprint_speed</th>\n",
              "      <th>agility</th>\n",
              "      <th>reactions</th>\n",
              "      <th>balance</th>\n",
              "      <th>shot_power</th>\n",
              "      <th>jumping</th>\n",
              "      <th>stamina</th>\n",
              "      <th>strength</th>\n",
              "      <th>long_shots</th>\n",
              "      <th>aggression</th>\n",
              "      <th>interceptions</th>\n",
              "      <th>positioning</th>\n",
              "      <th>vision</th>\n",
              "      <th>penalties</th>\n",
              "      <th>marking</th>\n",
              "      <th>standing_tackle</th>\n",
              "      <th>sliding_tackle</th>\n",
              "      <th>gk_diving</th>\n",
              "      <th>gk_handling</th>\n",
              "      <th>gk_kicking</th>\n",
              "      <th>gk_positioning</th>\n",
              "      <th>gk_reflexes</th>\n",
              "    </tr>\n",
              "  </thead>\n",
              "  <tbody>\n",
              "    <tr>\n",
              "      <th>0</th>\n",
              "      <td>155782</td>\n",
              "      <td>2016-04-21</td>\n",
              "      <td>80.0</td>\n",
              "      <td>53.0</td>\n",
              "      <td>58.0</td>\n",
              "      <td>71.0</td>\n",
              "      <td>40.0</td>\n",
              "      <td>73.0</td>\n",
              "      <td>70.0</td>\n",
              "      <td>69.0</td>\n",
              "      <td>68.0</td>\n",
              "      <td>71.0</td>\n",
              "      <td>79.0</td>\n",
              "      <td>78.0</td>\n",
              "      <td>78.0</td>\n",
              "      <td>67.0</td>\n",
              "      <td>90.0</td>\n",
              "      <td>71.0</td>\n",
              "      <td>85.0</td>\n",
              "      <td>79.0</td>\n",
              "      <td>56.0</td>\n",
              "      <td>62.0</td>\n",
              "      <td>68.0</td>\n",
              "      <td>67.0</td>\n",
              "      <td>60.0</td>\n",
              "      <td>66.0</td>\n",
              "      <td>59.0</td>\n",
              "      <td>76.0</td>\n",
              "      <td>75.0</td>\n",
              "      <td>78.0</td>\n",
              "      <td>14.0</td>\n",
              "      <td>7.0</td>\n",
              "      <td>9.0</td>\n",
              "      <td>9.0</td>\n",
              "      <td>12.0</td>\n",
              "    </tr>\n",
              "    <tr>\n",
              "      <th>1</th>\n",
              "      <td>155782</td>\n",
              "      <td>2016-04-07</td>\n",
              "      <td>80.0</td>\n",
              "      <td>53.0</td>\n",
              "      <td>58.0</td>\n",
              "      <td>71.0</td>\n",
              "      <td>32.0</td>\n",
              "      <td>73.0</td>\n",
              "      <td>70.0</td>\n",
              "      <td>69.0</td>\n",
              "      <td>68.0</td>\n",
              "      <td>71.0</td>\n",
              "      <td>79.0</td>\n",
              "      <td>78.0</td>\n",
              "      <td>78.0</td>\n",
              "      <td>67.0</td>\n",
              "      <td>90.0</td>\n",
              "      <td>71.0</td>\n",
              "      <td>85.0</td>\n",
              "      <td>79.0</td>\n",
              "      <td>56.0</td>\n",
              "      <td>60.0</td>\n",
              "      <td>68.0</td>\n",
              "      <td>67.0</td>\n",
              "      <td>60.0</td>\n",
              "      <td>66.0</td>\n",
              "      <td>59.0</td>\n",
              "      <td>76.0</td>\n",
              "      <td>75.0</td>\n",
              "      <td>78.0</td>\n",
              "      <td>14.0</td>\n",
              "      <td>7.0</td>\n",
              "      <td>9.0</td>\n",
              "      <td>9.0</td>\n",
              "      <td>12.0</td>\n",
              "    </tr>\n",
              "    <tr>\n",
              "      <th>2</th>\n",
              "      <td>155782</td>\n",
              "      <td>2016-01-07</td>\n",
              "      <td>79.0</td>\n",
              "      <td>52.0</td>\n",
              "      <td>57.0</td>\n",
              "      <td>70.0</td>\n",
              "      <td>29.0</td>\n",
              "      <td>71.0</td>\n",
              "      <td>68.0</td>\n",
              "      <td>69.0</td>\n",
              "      <td>68.0</td>\n",
              "      <td>70.0</td>\n",
              "      <td>79.0</td>\n",
              "      <td>78.0</td>\n",
              "      <td>78.0</td>\n",
              "      <td>67.0</td>\n",
              "      <td>90.0</td>\n",
              "      <td>71.0</td>\n",
              "      <td>84.0</td>\n",
              "      <td>79.0</td>\n",
              "      <td>56.0</td>\n",
              "      <td>59.0</td>\n",
              "      <td>67.0</td>\n",
              "      <td>66.0</td>\n",
              "      <td>58.0</td>\n",
              "      <td>65.0</td>\n",
              "      <td>59.0</td>\n",
              "      <td>76.0</td>\n",
              "      <td>75.0</td>\n",
              "      <td>78.0</td>\n",
              "      <td>14.0</td>\n",
              "      <td>7.0</td>\n",
              "      <td>9.0</td>\n",
              "      <td>9.0</td>\n",
              "      <td>12.0</td>\n",
              "    </tr>\n",
              "    <tr>\n",
              "      <th>3</th>\n",
              "      <td>155782</td>\n",
              "      <td>2015-12-24</td>\n",
              "      <td>79.0</td>\n",
              "      <td>51.0</td>\n",
              "      <td>57.0</td>\n",
              "      <td>70.0</td>\n",
              "      <td>29.0</td>\n",
              "      <td>71.0</td>\n",
              "      <td>68.0</td>\n",
              "      <td>69.0</td>\n",
              "      <td>68.0</td>\n",
              "      <td>70.0</td>\n",
              "      <td>79.0</td>\n",
              "      <td>78.0</td>\n",
              "      <td>78.0</td>\n",
              "      <td>67.0</td>\n",
              "      <td>90.0</td>\n",
              "      <td>71.0</td>\n",
              "      <td>84.0</td>\n",
              "      <td>79.0</td>\n",
              "      <td>56.0</td>\n",
              "      <td>58.0</td>\n",
              "      <td>67.0</td>\n",
              "      <td>66.0</td>\n",
              "      <td>58.0</td>\n",
              "      <td>65.0</td>\n",
              "      <td>59.0</td>\n",
              "      <td>76.0</td>\n",
              "      <td>75.0</td>\n",
              "      <td>78.0</td>\n",
              "      <td>14.0</td>\n",
              "      <td>7.0</td>\n",
              "      <td>9.0</td>\n",
              "      <td>9.0</td>\n",
              "      <td>12.0</td>\n",
              "    </tr>\n",
              "    <tr>\n",
              "      <th>4</th>\n",
              "      <td>155782</td>\n",
              "      <td>2015-12-17</td>\n",
              "      <td>79.0</td>\n",
              "      <td>51.0</td>\n",
              "      <td>57.0</td>\n",
              "      <td>70.0</td>\n",
              "      <td>29.0</td>\n",
              "      <td>71.0</td>\n",
              "      <td>68.0</td>\n",
              "      <td>69.0</td>\n",
              "      <td>68.0</td>\n",
              "      <td>70.0</td>\n",
              "      <td>79.0</td>\n",
              "      <td>78.0</td>\n",
              "      <td>78.0</td>\n",
              "      <td>67.0</td>\n",
              "      <td>90.0</td>\n",
              "      <td>71.0</td>\n",
              "      <td>84.0</td>\n",
              "      <td>79.0</td>\n",
              "      <td>56.0</td>\n",
              "      <td>58.0</td>\n",
              "      <td>67.0</td>\n",
              "      <td>66.0</td>\n",
              "      <td>58.0</td>\n",
              "      <td>65.0</td>\n",
              "      <td>59.0</td>\n",
              "      <td>76.0</td>\n",
              "      <td>75.0</td>\n",
              "      <td>78.0</td>\n",
              "      <td>14.0</td>\n",
              "      <td>7.0</td>\n",
              "      <td>9.0</td>\n",
              "      <td>9.0</td>\n",
              "      <td>12.0</td>\n",
              "    </tr>\n",
              "  </tbody>\n",
              "</table>\n",
              "</div>"
            ],
            "text/plain": [
              "   player_id       date  crossing  ...  gk_kicking  gk_positioning  gk_reflexes\n",
              "0     155782 2016-04-21      80.0  ...         9.0             9.0         12.0\n",
              "1     155782 2016-04-07      80.0  ...         9.0             9.0         12.0\n",
              "2     155782 2016-01-07      79.0  ...         9.0             9.0         12.0\n",
              "3     155782 2015-12-24      79.0  ...         9.0             9.0         12.0\n",
              "4     155782 2015-12-17      79.0  ...         9.0             9.0         12.0\n",
              "\n",
              "[5 rows x 35 columns]"
            ]
          },
          "metadata": {
            "tags": []
          },
          "execution_count": 65
        }
      ]
    },
    {
      "cell_type": "code",
      "metadata": {
        "id": "M7T3LIhNEa-k"
      },
      "source": [
        "def preprocess_X(row):\n",
        "    \"\"\"\n",
        "    Generate each row of data for each match.\n",
        "    \"\"\"\n",
        "    X = []\n",
        "    date = row[2]\n",
        "    for positions in row[6:50]:\n",
        "      X.append(positions)\n",
        "    for player in row[50:72]:\n",
        "      X.append(player)\n",
        "      p_data = player_data.loc[player_data[\"player_id\"] == player]\n",
        "      pt_data = p_data.loc[p_data[\"date\"] < date]\n",
        "      pt_data.sort_values(by=[\"date\"])\n",
        "      try:\n",
        "        X += list(pt_data.iloc[-1,2:])\n",
        "      except:\n",
        "        return None\n",
        "    return X"
      ],
      "execution_count": 66,
      "outputs": []
    },
    {
      "cell_type": "code",
      "metadata": {
        "id": "VKJPn_OVTDkA"
      },
      "source": [
        "def decision(home_goals, away_goals):\n",
        "  if home_goals > away_goals:\n",
        "    return 0\n",
        "  elif home_goals == away_goals:\n",
        "    return 1\n",
        "  else:\n",
        "    return 2"
      ],
      "execution_count": 67,
      "outputs": []
    },
    {
      "cell_type": "code",
      "metadata": {
        "id": "1GUhXaC9SMym"
      },
      "source": [
        "X_data = []\n",
        "y_data = []\n",
        "\n",
        "for index, row in match_data.iterrows():\n",
        "  x_data = preprocess_X(row)\n",
        "  if x_data == None:\n",
        "    continue\n",
        "  else:\n",
        "    X_data.append(x_data)\n",
        "  y_data.append(decision(row['home_team_goal'], row['away_team_goal']))"
      ],
      "execution_count": 68,
      "outputs": []
    },
    {
      "cell_type": "markdown",
      "metadata": {
        "id": "G4uehNgKu_0h"
      },
      "source": [
        "Split the dataset into training, validation and test sets:-"
      ]
    },
    {
      "cell_type": "code",
      "metadata": {
        "id": "smtLMjKBrkXN"
      },
      "source": [
        "X_train_val, X_test, y_train_val, y_test = train_test_split(X_data, y_data, random_state=100, test_size=0.1)"
      ],
      "execution_count": 70,
      "outputs": []
    },
    {
      "cell_type": "code",
      "metadata": {
        "id": "yC4-lLLfUi-o"
      },
      "source": [
        "train_X, val_X, train_y, val_y = train_test_split(np.array(X_train_val), np.array(y_train_val), random_state=100, test_size=0.1)"
      ],
      "execution_count": 71,
      "outputs": []
    },
    {
      "cell_type": "code",
      "metadata": {
        "id": "mR4FYoAeWxlK"
      },
      "source": [
        "# Random Forest Classifier\n",
        "rf_clf = RandomForestClassifier(random_state=0)"
      ],
      "execution_count": 72,
      "outputs": []
    },
    {
      "cell_type": "code",
      "metadata": {
        "colab": {
          "base_uri": "https://localhost:8080/"
        },
        "id": "0KCzmYhVi9rH",
        "outputId": "55534709-42de-4c5c-f111-021225da55af"
      },
      "source": [
        "rf_clf.fit(train_X, train_y)"
      ],
      "execution_count": 73,
      "outputs": [
        {
          "output_type": "execute_result",
          "data": {
            "text/plain": [
              "RandomForestClassifier(bootstrap=True, ccp_alpha=0.0, class_weight=None,\n",
              "                       criterion='gini', max_depth=None, max_features='auto',\n",
              "                       max_leaf_nodes=None, max_samples=None,\n",
              "                       min_impurity_decrease=0.0, min_impurity_split=None,\n",
              "                       min_samples_leaf=1, min_samples_split=2,\n",
              "                       min_weight_fraction_leaf=0.0, n_estimators=100,\n",
              "                       n_jobs=None, oob_score=False, random_state=0, verbose=0,\n",
              "                       warm_start=False)"
            ]
          },
          "metadata": {
            "tags": []
          },
          "execution_count": 73
        }
      ]
    },
    {
      "cell_type": "code",
      "metadata": {
        "colab": {
          "base_uri": "https://localhost:8080/"
        },
        "id": "tIpEvXuXjPkV",
        "outputId": "adde467a-b219-4cdf-a5b7-315316da8a14"
      },
      "source": [
        "# validation performance\n",
        "print (accuracy_score(val_y, rf_clf.predict(val_X)))"
      ],
      "execution_count": 74,
      "outputs": [
        {
          "output_type": "stream",
          "text": [
            "0.5518867924528302\n"
          ],
          "name": "stdout"
        }
      ]
    },
    {
      "cell_type": "code",
      "metadata": {
        "colab": {
          "base_uri": "https://localhost:8080/"
        },
        "id": "LVT1JDFXtdyR",
        "outputId": "08bd9937-9b69-4437-b3c5-01f464365f64"
      },
      "source": [
        "# test performance\n",
        "print (accuracy_score(y_test, rf_clf.predict(X_test)))"
      ],
      "execution_count": 75,
      "outputs": [
        {
          "output_type": "stream",
          "text": [
            "0.5\n"
          ],
          "name": "stdout"
        }
      ]
    },
    {
      "cell_type": "code",
      "metadata": {
        "colab": {
          "base_uri": "https://localhost:8080/"
        },
        "id": "WK1fSfjPpM76",
        "outputId": "44db36ac-fa7e-41c2-86a9-7ee714c178d7"
      },
      "source": [
        "# A classification report of test performance\n",
        "print (classification_report(y_test, rf_clf.predict(X_test)))"
      ],
      "execution_count": 76,
      "outputs": [
        {
          "output_type": "stream",
          "text": [
            "              precision    recall  f1-score   support\n",
            "\n",
            "           0       0.56      0.84      0.67       112\n",
            "           1       0.17      0.02      0.03        63\n",
            "           2       0.37      0.38      0.37        61\n",
            "\n",
            "    accuracy                           0.50       236\n",
            "   macro avg       0.36      0.41      0.36       236\n",
            "weighted avg       0.41      0.50      0.42       236\n",
            "\n"
          ],
          "name": "stdout"
        }
      ]
    },
    {
      "cell_type": "code",
      "metadata": {
        "colab": {
          "base_uri": "https://localhost:8080/"
        },
        "id": "x2twoqFHs7aA",
        "outputId": "05b7cbc7-e0b8-4c1a-a6d4-4080a43e5d89"
      },
      "source": [
        "input_dim = train_X.shape[1]\n",
        "input_dim"
      ],
      "execution_count": 77,
      "outputs": [
        {
          "output_type": "execute_result",
          "data": {
            "text/plain": [
              "792"
            ]
          },
          "metadata": {
            "tags": []
          },
          "execution_count": 77
        }
      ]
    },
    {
      "cell_type": "code",
      "metadata": {
        "id": "BsHCWc1Wum6m"
      },
      "source": [
        "model1 = keras.Sequential([\n",
        "                          keras.layers.Dense(256, activation='relu', input_shape=[input_dim], kernel_regularizer=keras.regularizers.l2(1)),\n",
        "                          keras.layers.BatchNormalization(),\n",
        "                          #keras.layers.Dense(256, activation='relu', kernel_regularizer=keras.regularizers.l2(0.1)),\n",
        "                          #keras.layers.BatchNormalization(),\n",
        "                          keras.layers.Dense(128, activation='relu', kernel_regularizer=keras.regularizers.l2(1)),\n",
        "                          keras.layers.BatchNormalization(),\n",
        "                          #keras.layers.Dense(64, activation='relu', kernel_regularizer=keras.regularizers.l2(0.1)),\n",
        "                          #keras.layers.BatchNormalization(),\n",
        "                          keras.layers.Dense(32, activation='relu', kernel_regularizer=keras.regularizers.l2(1)),\n",
        "                          keras.layers.Dense(3, activation='softmax')\n",
        "])"
      ],
      "execution_count": 31,
      "outputs": []
    },
    {
      "cell_type": "code",
      "metadata": {
        "id": "Yh3y3Fnex-Xn"
      },
      "source": [
        "checkpoint_path = \"training_1/cp.ckpt\"\n",
        "checkpoint_dir = os.path.dirname(checkpoint_path)\n",
        "opt = keras.optimizers.Adam(learning_rate=0.0001)\n",
        "model1.compile(optimizer=opt, loss=\"sparse_categorical_crossentropy\", metrics=[\"accuracy\"])\n",
        "model_checkpoint = keras.callbacks.ModelCheckpoint(checkpoint_path, save_best_only=True, monitor=\"val_accuracy\")"
      ],
      "execution_count": 45,
      "outputs": []
    },
    {
      "cell_type": "code",
      "metadata": {
        "colab": {
          "base_uri": "https://localhost:8080/"
        },
        "collapsed": true,
        "id": "vL6qYb9TNZdM",
        "outputId": "6e2024c5-2035-4412-8212-addfa478d95f"
      },
      "source": [
        "model1.fit(x=train_X, y=train_y, epochs=100, batch_size=512, validation_data=(val_X, val_y),)"
      ],
      "execution_count": 46,
      "outputs": [
        {
          "output_type": "stream",
          "text": [
            "Epoch 1/5\n",
            "4/4 [==============================] - 1s 88ms/step - loss: 429.7502 - accuracy: 0.3752 - val_loss: 424.8082 - val_accuracy: 0.3396\n",
            "Epoch 2/5\n",
            "4/4 [==============================] - 0s 29ms/step - loss: 423.4506 - accuracy: 0.3695 - val_loss: 418.5788 - val_accuracy: 0.3491\n",
            "Epoch 3/5\n",
            "4/4 [==============================] - 0s 29ms/step - loss: 417.2264 - accuracy: 0.3936 - val_loss: 412.4276 - val_accuracy: 0.3491\n",
            "Epoch 4/5\n",
            "4/4 [==============================] - 0s 30ms/step - loss: 411.0996 - accuracy: 0.3768 - val_loss: 406.3575 - val_accuracy: 0.3396\n",
            "Epoch 5/5\n",
            "4/4 [==============================] - 0s 28ms/step - loss: 405.0426 - accuracy: 0.3950 - val_loss: 400.3701 - val_accuracy: 0.3538\n"
          ],
          "name": "stdout"
        },
        {
          "output_type": "execute_result",
          "data": {
            "text/plain": [
              "<tensorflow.python.keras.callbacks.History at 0x7f1710f4dd50>"
            ]
          },
          "metadata": {
            "tags": []
          },
          "execution_count": 46
        }
      ]
    },
    {
      "cell_type": "markdown",
      "metadata": {
        "id": "xxiT8v3wz_Z2"
      },
      "source": [
        ""
      ]
    },
    {
      "cell_type": "code",
      "metadata": {
        "id": "I_EbAP19ziem"
      },
      "source": [
        "match_id = []\n",
        "X_test = []\n",
        "for index, row in match_test.iterrows():\n",
        "  x_data = preprocess_X(row)\n",
        "  if x_data == None:\n",
        "    continue\n",
        "  else:\n",
        "    X_test.append(x_data)\n",
        "    match_id.append(row[\"match_id\"])"
      ],
      "execution_count": 80,
      "outputs": []
    },
    {
      "cell_type": "code",
      "metadata": {
        "id": "DPAAH8ar3W8f"
      },
      "source": [
        "out_dict = {0: \"win\", 1: \"tie\", 2: \"loss\"}"
      ],
      "execution_count": 78,
      "outputs": []
    },
    {
      "cell_type": "code",
      "metadata": {
        "colab": {
          "base_uri": "https://localhost:8080/"
        },
        "id": "R8Cidy5d1-FK",
        "outputId": "1478289d-586c-47d5-9315-f862cd2e0ffa"
      },
      "source": [
        "pred = [out_dict[p] for p in rf_clf.predict(X_test)]\n",
        "predictions_frame = pd.DataFrame(list(zip(match_id, pred)), columns=[\"match_id\", \"result\"])"
      ],
      "execution_count": 90,
      "outputs": [
        {
          "output_type": "stream",
          "text": [
            "<class 'list'> 377\n"
          ],
          "name": "stdout"
        }
      ]
    },
    {
      "cell_type": "code",
      "metadata": {
        "colab": {
          "base_uri": "https://localhost:8080/",
          "height": 17
        },
        "id": "lNWsjs1O3A3a",
        "outputId": "6f9b3536-fe0e-4e70-9840-2420dc393131"
      },
      "source": [
        "predictions_frame.to_csv(\"prediction_submission.csv\")\n",
        "from google.colab import files\n",
        "files.download(\"prediction_submission.csv\")"
      ],
      "execution_count": 94,
      "outputs": [
        {
          "output_type": "display_data",
          "data": {
            "application/javascript": [
              "\n",
              "    async function download(id, filename, size) {\n",
              "      if (!google.colab.kernel.accessAllowed) {\n",
              "        return;\n",
              "      }\n",
              "      const div = document.createElement('div');\n",
              "      const label = document.createElement('label');\n",
              "      label.textContent = `Downloading \"${filename}\": `;\n",
              "      div.appendChild(label);\n",
              "      const progress = document.createElement('progress');\n",
              "      progress.max = size;\n",
              "      div.appendChild(progress);\n",
              "      document.body.appendChild(div);\n",
              "\n",
              "      const buffers = [];\n",
              "      let downloaded = 0;\n",
              "\n",
              "      const channel = await google.colab.kernel.comms.open(id);\n",
              "      // Send a message to notify the kernel that we're ready.\n",
              "      channel.send({})\n",
              "\n",
              "      for await (const message of channel.messages) {\n",
              "        // Send a message to notify the kernel that we're ready.\n",
              "        channel.send({})\n",
              "        if (message.buffers) {\n",
              "          for (const buffer of message.buffers) {\n",
              "            buffers.push(buffer);\n",
              "            downloaded += buffer.byteLength;\n",
              "            progress.value = downloaded;\n",
              "          }\n",
              "        }\n",
              "      }\n",
              "      const blob = new Blob(buffers, {type: 'application/binary'});\n",
              "      const a = document.createElement('a');\n",
              "      a.href = window.URL.createObjectURL(blob);\n",
              "      a.download = filename;\n",
              "      div.appendChild(a);\n",
              "      a.click();\n",
              "      div.remove();\n",
              "    }\n",
              "  "
            ],
            "text/plain": [
              "<IPython.core.display.Javascript object>"
            ]
          },
          "metadata": {
            "tags": []
          }
        },
        {
          "output_type": "display_data",
          "data": {
            "application/javascript": [
              "download(\"download_7bb4a7f0-0c5a-45ba-9f11-0024597ef2f2\", \"prediction_submission.csv\", 5272)"
            ],
            "text/plain": [
              "<IPython.core.display.Javascript object>"
            ]
          },
          "metadata": {
            "tags": []
          }
        }
      ]
    },
    {
      "cell_type": "code",
      "metadata": {
        "id": "Fj5rnfZj5nqg"
      },
      "source": [
        ""
      ],
      "execution_count": null,
      "outputs": []
    }
  ]
}